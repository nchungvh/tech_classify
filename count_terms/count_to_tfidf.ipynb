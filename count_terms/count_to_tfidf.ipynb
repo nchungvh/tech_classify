{
 "cells": [
  {
   "cell_type": "code",
   "execution_count": 1,
   "id": "identical-american",
   "metadata": {},
   "outputs": [],
   "source": [
    "import json\n",
    "from collections import defaultdict\n",
    "import math"
   ]
  },
  {
   "cell_type": "code",
   "execution_count": 2,
   "id": "exterior-gregory",
   "metadata": {},
   "outputs": [],
   "source": [
    "with open(\"count_term_patent.json\", 'r') as f:\n",
    "    graph_dict = json.load(f)"
   ]
  },
  {
   "cell_type": "code",
   "execution_count": 3,
   "id": "sudden-winner",
   "metadata": {},
   "outputs": [
    {
     "ename": "KeyError",
     "evalue": "'HAVO Group AG'",
     "output_type": "error",
     "traceback": [
      "\u001b[0;31m---------------------------------------------------------------------------\u001b[0m",
      "\u001b[0;31mKeyError\u001b[0m                                  Traceback (most recent call last)",
      "\u001b[0;32m<ipython-input-3-4f8706139f79>\u001b[0m in \u001b[0;36m<module>\u001b[0;34m\u001b[0m\n\u001b[0;32m----> 1\u001b[0;31m \u001b[0mgraph_dict\u001b[0m\u001b[0;34m[\u001b[0m\u001b[0;34m'HAVO Group AG'\u001b[0m\u001b[0;34m]\u001b[0m\u001b[0;34m\u001b[0m\u001b[0;34m\u001b[0m\u001b[0m\n\u001b[0m",
      "\u001b[0;31mKeyError\u001b[0m: 'HAVO Group AG'"
     ]
    }
   ],
   "source": [
    "graph_dict['HAVO Group AG']"
   ]
  },
  {
   "cell_type": "code",
   "execution_count": 4,
   "id": "geological-bankruptcy",
   "metadata": {},
   "outputs": [],
   "source": [
    "idf = defaultdict(int)\n",
    "for com, vals in graph_dict.items():\n",
    "    terms = vals.keys()\n",
    "    for term in terms:\n",
    "        idf[term] +=1"
   ]
  },
  {
   "cell_type": "code",
   "execution_count": null,
   "id": "combined-netscape",
   "metadata": {},
   "outputs": [],
   "source": [
    "idf['Project_planning']"
   ]
  },
  {
   "cell_type": "code",
   "execution_count": 5,
   "id": "stretch-invalid",
   "metadata": {},
   "outputs": [],
   "source": [
    "tfidf_graph_dict = {}\n",
    "for com, vals in graph_dict.items():\n",
    "    total_terms = sum(vals.values())\n",
    "    tf = defaultdict(int)\n",
    "    for term, val in vals.items():\n",
    "        tf[term] += val\n",
    "    tfidf = defaultdict(int)\n",
    "    for term in tf.keys():\n",
    "        tfidf[term] = tf[term]/total_terms*math.log(len(graph_dict)/ idf[term], math.e)\n",
    "    tfidf_graph_dict[com] = tfidf"
   ]
  },
  {
   "cell_type": "code",
   "execution_count": null,
   "id": "thirty-terry",
   "metadata": {},
   "outputs": [],
   "source": [
    "tfidf_graph_dict['HAVO Group AG']"
   ]
  },
  {
   "cell_type": "code",
   "execution_count": 6,
   "id": "scheduled-stocks",
   "metadata": {},
   "outputs": [],
   "source": [
    "with open(\"weighted_filtered_patent.json\", 'w', encoding='utf-8') as f:\n",
    "    json.dump(tfidf_graph_dict, f, ensure_ascii=False)"
   ]
  },
  {
   "cell_type": "code",
   "execution_count": null,
   "id": "controlling-bernard",
   "metadata": {},
   "outputs": [],
   "source": []
  }
 ],
 "metadata": {
  "kernelspec": {
   "display_name": "Python 3",
   "language": "python",
   "name": "python3"
  },
  "language_info": {
   "codemirror_mode": {
    "name": "ipython",
    "version": 3
   },
   "file_extension": ".py",
   "mimetype": "text/x-python",
   "name": "python",
   "nbconvert_exporter": "python",
   "pygments_lexer": "ipython3",
   "version": "3.7.7"
  }
 },
 "nbformat": 4,
 "nbformat_minor": 5
}
